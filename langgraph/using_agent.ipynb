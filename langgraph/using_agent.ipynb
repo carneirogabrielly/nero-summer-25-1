{
 "cells": [
  {
   "cell_type": "code",
   "execution_count": 1,
   "metadata": {},
   "outputs": [
    {
     "data": {
      "text/plain": [
       "True"
      ]
     },
     "execution_count": 1,
     "metadata": {},
     "output_type": "execute_result"
    }
   ],
   "source": [
    "from dotenv import load_dotenv\n",
    "\n",
    "import os\n",
    "\n",
    "load_dotenv()"
   ]
  },
  {
   "cell_type": "markdown",
   "metadata": {},
   "source": [
    "## Importando agente"
   ]
  },
  {
   "cell_type": "code",
   "execution_count": 2,
   "metadata": {},
   "outputs": [
    {
     "name": "stderr",
     "output_type": "stream",
     "text": [
      "USER_AGENT environment variable not set, consider setting it to identify your requests.\n"
     ]
    }
   ],
   "source": [
    "from newsletter_trends.workflow import compile_workflow"
   ]
  },
  {
   "cell_type": "code",
   "execution_count": 3,
   "metadata": {},
   "outputs": [],
   "source": [
    "app = compile_workflow()"
   ]
  },
  {
   "cell_type": "code",
   "execution_count": 4,
   "metadata": {},
   "outputs": [
    {
     "name": "stdout",
     "output_type": "stream",
     "text": [
      "---GET TRENDS---\n",
      "\n",
      "Trend List:  ['Al Taawon x Al-Nassr', 'IBFC Correios', 'André Feldman', 'UFC', 'Eintracht x Borussia']\n",
      "\n",
      "---GET SERPER AND SCRAPPING---\n",
      "\n"
     ]
    },
    {
     "name": "stderr",
     "output_type": "stream",
     "text": [
      "100%|██████████| 5/5 [00:29<00:00,  5.94s/it]\n"
     ]
    },
    {
     "name": "stdout",
     "output_type": "stream",
     "text": [
      "---Al Taawon x Al-Nassr---\n",
      "Al-Taawoun x Al-Nassr Palpites – Onde Assistir, Horário e Escalações 17/01\n",
      "Al Taawoun x Al Nassr: onde assistir ao vivo, horário, palpites e prováveis escalações do jogo do Campeonato Saudita\n",
      "Al-Taawoun x Al-Nassr – Palpite da Saudi League 24/25 – 17/01\n",
      "\n",
      "---IBFC Correios---\n",
      "\"Sem previsão\", diz banca sobre resultado do concurso dos Correios\n",
      "Concurso Correios: confira o resultado final das provas!\n",
      "Concurso dos Correios: resultado preliminar é divulgado; veja como acessar\n",
      "\n",
      "---André Feldman---\n",
      "Empresário morto em queda de helicóptero em SP era sócio de empresa de apostas virtual\n",
      "Dono de bet e esposa morrem em queda de helicóptero em SP; veja quem eram os ocupantes da aeronave\n",
      "Empresário morto em queda de helicóptero era dono de avião que bateu no RJ\n",
      "\n",
      "---UFC---\n",
      "Moicano substitui Tsarukyan no UFC 311 e confirma disputa de título contra Makhachev\n",
      "Dana White compartilha reação de Islam Makhachev sobre luta com Renato Moicano no UFC 311 | SUPER LUTAS\n",
      "Moicano foi 'vidente' em luta com Makhachev no UFC 311, e Volkanovski rebate Dana White: 'Por que não me ligou?'\n",
      "\n",
      "---Eintracht x Borussia---\n",
      "Ao vivo - Eintracht Frankfurt x Borussia Dortmund - Bundesliga 24/25 - Acompanhe todos os lances\n",
      "Eintracht Frankfurt x Borussia Dortmund – Palpite, Onde Assistir, Hora e Escalações 17-01\n",
      "Eintracht Frankfurt x Borussia Dortmund: onde assistir ao jogo do Alemão\n",
      "\n",
      "---CREATE NEWSLETTER---\n",
      "\n",
      "Aqui está a newsletter:  **Newsletter de Notícias - 17 de Janeiro de 2025**\n",
      "\n",
      "**1. Al-Taawoun x Al-Nassr: Um Confronto Imperdível no Campeonato Saudita**\n",
      "Hoje, às 14h (horário de Brasília), Al-Taawoun e Al-Nassr se enfrentam no King Abdullah Sport City, em Buraidah, pela 15ª rodada do Campeonato Saudita. O Al-Taawoun busca se aproximar das primeiras posições, enquanto o Al-Nassr, com Cristiano Ronaldo em campo, quer se manter no G3. O histórico entre as equipes é favorável ao Al-Nassr, que venceu 21 dos 33 confrontos diretos. A partida será transmitida pelo Bandsports e pelo Canal GOAT no YouTube. Os palpites indicam que ambas as equipes devem marcar, com odds de 1.80 na Superbet.\n",
      "\n",
      "**2. Tragédia Aérea: Empresário e Esposa Morrem em Queda de Helicóptero**\n",
      "André Feldman, sócio de uma empresa de apostas virtuais, e sua esposa, Juliana, faleceram em um acidente de helicóptero em Caieiras, SP. A filha do casal e o piloto sobreviveram. Feldman era conhecido na cidade de Americana e sua empresa, Big Brazil, estava em processo de licenciamento para operar no mercado de apostas esportivas no Brasil. O acidente ocorreu na noite de quinta-feira, e as causas estão sendo investigadas.\n",
      "\n",
      "**3. UFC 311: Moicano Substitui Tsarukyan e Enfrenta Makhachev**\n",
      "Renato Moicano foi chamado de última hora para lutar pelo cinturão dos leves contra Islam Makhachev no UFC 311, após Arman Tsarukyan se lesionar. Moicano, que estava escalado para enfrentar Beneil Dariush, agora tem a chance de conquistar o título. Dana White elogiou a disposição de Moicano, que já havia previsto essa oportunidade. O evento acontece neste sábado, 18 de janeiro, em Los Angeles.\n",
      "\n",
      "**4. Eintracht Frankfurt x Borussia Dortmund: Confronto na Bundesliga**\n",
      "Hoje, às 16h30 (horário de Brasília), Eintracht Frankfurt e Borussia Dortmund se enfrentam pela Bundesliga. O Frankfurt está em ótima fase, buscando manter a liderança, enquanto o Dortmund tenta se recuperar de uma temporada decepcionante. O jogo será transmitido ao vivo pelo Sportv e nos streamings Cazé TV e OneFootball. O palpite é de que o Frankfurt deve vencer ou empatar, com odds de 1.41.\n",
      "\n",
      "**5. Momentos de Tensão no UFC: Jamahal Hill é Vaiado**\n",
      "Durante a coletiva de imprensa do UFC 311, Jamahal Hill foi vaiado pelo público, que também gritou \"Chama\", uma referência ao rival Alex Poatan. Hill, que enfrentou Poatan no passado, se mostrou irritado com a recepção hostil, enquanto Jiri Prochazka emocionou a todos ao raspar a cabeça em apoio a uma fã com câncer.\n",
      "\n",
      "**6. Prochazka e Doações: Um Gesto de Solidariedade**\n",
      "Jiri Prochazka, que também luta no UFC 311, raspou a cabeça em homenagem a uma menina diagnosticada com câncer e prometeu uma doação significativa para ajudar pacientes oncológicos. Dana White se comprometeu a igualar a doação, destacando a importância de ações solidárias no esporte.\n",
      "\n",
      "Fique ligado para mais atualizações e não perca os eventos de hoje!\n"
     ]
    },
    {
     "data": {
      "text/markdown": [
       "**Newsletter de Notícias - 17 de Janeiro de 2025**\n",
       "\n",
       "**1. Al-Taawoun x Al-Nassr: Um Confronto Imperdível no Campeonato Saudita**\n",
       "Hoje, às 14h (horário de Brasília), Al-Taawoun e Al-Nassr se enfrentam no King Abdullah Sport City, em Buraidah, pela 15ª rodada do Campeonato Saudita. O Al-Taawoun busca se aproximar das primeiras posições, enquanto o Al-Nassr, com Cristiano Ronaldo em campo, quer se manter no G3. O histórico entre as equipes é favorável ao Al-Nassr, que venceu 21 dos 33 confrontos diretos. A partida será transmitida pelo Bandsports e pelo Canal GOAT no YouTube. Os palpites indicam que ambas as equipes devem marcar, com odds de 1.80 na Superbet.\n",
       "\n",
       "**2. Tragédia Aérea: Empresário e Esposa Morrem em Queda de Helicóptero**\n",
       "André Feldman, sócio de uma empresa de apostas virtuais, e sua esposa, Juliana, faleceram em um acidente de helicóptero em Caieiras, SP. A filha do casal e o piloto sobreviveram. Feldman era conhecido na cidade de Americana e sua empresa, Big Brazil, estava em processo de licenciamento para operar no mercado de apostas esportivas no Brasil. O acidente ocorreu na noite de quinta-feira, e as causas estão sendo investigadas.\n",
       "\n",
       "**3. UFC 311: Moicano Substitui Tsarukyan e Enfrenta Makhachev**\n",
       "Renato Moicano foi chamado de última hora para lutar pelo cinturão dos leves contra Islam Makhachev no UFC 311, após Arman Tsarukyan se lesionar. Moicano, que estava escalado para enfrentar Beneil Dariush, agora tem a chance de conquistar o título. Dana White elogiou a disposição de Moicano, que já havia previsto essa oportunidade. O evento acontece neste sábado, 18 de janeiro, em Los Angeles.\n",
       "\n",
       "**4. Eintracht Frankfurt x Borussia Dortmund: Confronto na Bundesliga**\n",
       "Hoje, às 16h30 (horário de Brasília), Eintracht Frankfurt e Borussia Dortmund se enfrentam pela Bundesliga. O Frankfurt está em ótima fase, buscando manter a liderança, enquanto o Dortmund tenta se recuperar de uma temporada decepcionante. O jogo será transmitido ao vivo pelo Sportv e nos streamings Cazé TV e OneFootball. O palpite é de que o Frankfurt deve vencer ou empatar, com odds de 1.41.\n",
       "\n",
       "**5. Momentos de Tensão no UFC: Jamahal Hill é Vaiado**\n",
       "Durante a coletiva de imprensa do UFC 311, Jamahal Hill foi vaiado pelo público, que também gritou \"Chama\", uma referência ao rival Alex Poatan. Hill, que enfrentou Poatan no passado, se mostrou irritado com a recepção hostil, enquanto Jiri Prochazka emocionou a todos ao raspar a cabeça em apoio a uma fã com câncer.\n",
       "\n",
       "**6. Prochazka e Doações: Um Gesto de Solidariedade**\n",
       "Jiri Prochazka, que também luta no UFC 311, raspou a cabeça em homenagem a uma menina diagnosticada com câncer e prometeu uma doação significativa para ajudar pacientes oncológicos. Dana White se comprometeu a igualar a doação, destacando a importância de ações solidárias no esporte.\n",
       "\n",
       "Fique ligado para mais atualizações e não perca os eventos de hoje!"
      ],
      "text/plain": [
       "<IPython.core.display.Markdown object>"
      ]
     },
     "metadata": {},
     "output_type": "display_data"
    }
   ],
   "source": [
    "response = app.invoke({\"country\": \"brazil\",\n",
    "                       \"head\": 5,\n",
    "                       \"k\": 3})"
   ]
  },
  {
   "cell_type": "code",
   "execution_count": 5,
   "metadata": {},
   "outputs": [
    {
     "data": {
      "text/plain": [
       "dict_keys(['country', 'head', 'k', 'trends', 'news', 'newsletter'])"
      ]
     },
     "execution_count": 5,
     "metadata": {},
     "output_type": "execute_result"
    }
   ],
   "source": [
    "response.keys()"
   ]
  },
  {
   "cell_type": "code",
   "execution_count": 6,
   "metadata": {},
   "outputs": [
    {
     "data": {
      "text/markdown": [
       "**Newsletter de Notícias - 17 de Janeiro de 2025**\n",
       "\n",
       "**1. Al-Taawoun x Al-Nassr: Um Confronto Imperdível no Campeonato Saudita**\n",
       "Hoje, às 14h (horário de Brasília), Al-Taawoun e Al-Nassr se enfrentam no King Abdullah Sport City, em Buraidah, pela 15ª rodada do Campeonato Saudita. O Al-Taawoun busca se aproximar das primeiras posições, enquanto o Al-Nassr, com Cristiano Ronaldo em campo, quer se manter no G3. O histórico entre as equipes é favorável ao Al-Nassr, que venceu 21 dos 33 confrontos diretos. A partida será transmitida pelo Bandsports e pelo Canal GOAT no YouTube. Os palpites indicam que ambas as equipes devem marcar, com odds de 1.80 na Superbet.\n",
       "\n",
       "**2. Tragédia Aérea: Empresário e Esposa Morrem em Queda de Helicóptero**\n",
       "André Feldman, sócio de uma empresa de apostas virtuais, e sua esposa, Juliana, faleceram em um acidente de helicóptero em Caieiras, SP. A filha do casal e o piloto sobreviveram. Feldman era conhecido na cidade de Americana e sua empresa, Big Brazil, estava em processo de licenciamento para operar no mercado de apostas esportivas no Brasil. O acidente ocorreu na noite de quinta-feira, e as causas estão sendo investigadas.\n",
       "\n",
       "**3. UFC 311: Moicano Substitui Tsarukyan e Enfrenta Makhachev**\n",
       "Renato Moicano foi chamado de última hora para lutar pelo cinturão dos leves contra Islam Makhachev no UFC 311, após Arman Tsarukyan se lesionar. Moicano, que estava escalado para enfrentar Beneil Dariush, agora tem a chance de conquistar o título. Dana White elogiou a disposição de Moicano, que já havia previsto essa oportunidade. O evento acontece neste sábado, 18 de janeiro, em Los Angeles.\n",
       "\n",
       "**4. Eintracht Frankfurt x Borussia Dortmund: Confronto na Bundesliga**\n",
       "Hoje, às 16h30 (horário de Brasília), Eintracht Frankfurt e Borussia Dortmund se enfrentam pela Bundesliga. O Frankfurt está em ótima fase, buscando manter a liderança, enquanto o Dortmund tenta se recuperar de uma temporada decepcionante. O jogo será transmitido ao vivo pelo Sportv e nos streamings Cazé TV e OneFootball. O palpite é de que o Frankfurt deve vencer ou empatar, com odds de 1.41.\n",
       "\n",
       "**5. Momentos de Tensão no UFC: Jamahal Hill é Vaiado**\n",
       "Durante a coletiva de imprensa do UFC 311, Jamahal Hill foi vaiado pelo público, que também gritou \"Chama\", uma referência ao rival Alex Poatan. Hill, que enfrentou Poatan no passado, se mostrou irritado com a recepção hostil, enquanto Jiri Prochazka emocionou a todos ao raspar a cabeça em apoio a uma fã com câncer.\n",
       "\n",
       "**6. Prochazka e Doações: Um Gesto de Solidariedade**\n",
       "Jiri Prochazka, que também luta no UFC 311, raspou a cabeça em homenagem a uma menina diagnosticada com câncer e prometeu uma doação significativa para ajudar pacientes oncológicos. Dana White se comprometeu a igualar a doação, destacando a importância de ações solidárias no esporte.\n",
       "\n",
       "Fique ligado para mais atualizações e não perca os eventos de hoje!"
      ],
      "text/plain": [
       "<IPython.core.display.Markdown object>"
      ]
     },
     "metadata": {},
     "output_type": "display_data"
    }
   ],
   "source": [
    "from IPython.display import Markdown\n",
    "\n",
    "newsletter = response[\"newsletter\"]\n",
    "display(Markdown(newsletter))"
   ]
  }
 ],
 "metadata": {
  "kernelspec": {
   "display_name": "env",
   "language": "python",
   "name": "python3"
  },
  "language_info": {
   "codemirror_mode": {
    "name": "ipython",
    "version": 3
   },
   "file_extension": ".py",
   "mimetype": "text/x-python",
   "name": "python",
   "nbconvert_exporter": "python",
   "pygments_lexer": "ipython3",
   "version": "3.12.8"
  }
 },
 "nbformat": 4,
 "nbformat_minor": 2
}
