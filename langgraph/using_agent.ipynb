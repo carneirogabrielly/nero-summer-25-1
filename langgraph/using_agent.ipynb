{
 "cells": [
  {
   "cell_type": "code",
   "execution_count": 1,
   "metadata": {},
   "outputs": [
    {
     "data": {
      "text/plain": [
       "True"
      ]
     },
     "execution_count": 1,
     "metadata": {},
     "output_type": "execute_result"
    }
   ],
   "source": [
    "from dotenv import load_dotenv\n",
    "\n",
    "import os\n",
    "\n",
    "load_dotenv()"
   ]
  },
  {
   "cell_type": "markdown",
   "metadata": {},
   "source": [
    "## Importando agente"
   ]
  },
  {
   "cell_type": "code",
   "execution_count": 2,
   "metadata": {},
   "outputs": [
    {
     "name": "stderr",
     "output_type": "stream",
     "text": [
      "USER_AGENT environment variable not set, consider setting it to identify your requests.\n"
     ]
    }
   ],
   "source": [
    "from newsletter_trends.workflow import compile_workflow"
   ]
  },
  {
   "cell_type": "code",
   "execution_count": 3,
   "metadata": {},
   "outputs": [],
   "source": [
    "app = compile_workflow()"
   ]
  },
  {
   "cell_type": "code",
   "execution_count": 4,
   "metadata": {},
   "outputs": [
    {
     "name": "stdout",
     "output_type": "stream",
     "text": [
      "---GET TRENDS---\n",
      "\n",
      "Trend List:  ['David Lynch', 'Manchester United x Southampton', 'Nintendo Switch 2', 'Santos', 'Balneário Camboriú']\n",
      "\n",
      "---GET SERPER AND SCRAPPING---\n",
      "\n"
     ]
    },
    {
     "name": "stderr",
     "output_type": "stream",
     "text": [
      "100%|██████████| 5/5 [00:14<00:00,  2.96s/it]\n"
     ]
    },
    {
     "name": "stdout",
     "output_type": "stream",
     "text": [
      "---David Lynch---\n",
      "‘Twin Peaks’ Was the Most Bizarre Show on TV — and David Lynch’s Biggest Success\n",
      "\n",
      "---Manchester United x Southampton---\n",
      "Man Utd fans all saying same thing about Leny Yoro after performance vs Southampton, 'concerning' point raised\n",
      "\n",
      "---Nintendo Switch 2---\n",
      "Hideki Kamiya calls out \"sh**ty leakers\" in wake of Switch 2 reveal\n",
      "\n",
      "---Santos---\n",
      "Bucs sign coveted teenage shortstop prospect De Los Santos\n",
      "Chicago Bears 2024 Exit Interviews: Cairo Santos\n",
      "The Many Leaning Towers Of Santos, Brazil\n",
      "\n",
      "---Balneário Camboriú---\n",
      "Filme mostra que chuva danificou seriamente a praia alargada de Balneário Camboriú\n",
      "BR-101 em Balneário Camboriú é liberada após interdição\n",
      "Depois de Balneário Camboriú, corrida por prédios mais altos chega a São Paulo\n",
      "\n",
      "---CREATE NEWSLETTER---\n",
      "\n",
      "Aqui está a newsletter:  **Newsletter do Dia - 17 de Janeiro de 2025**\n",
      "\n",
      "**Cultura e Entretenimento: Homenagem a David Lynch e o Impacto de \"Twin Peaks\"**\n",
      "\n",
      "O mundo do entretenimento está em luto com a recente morte de David Lynch, o aclamado diretor conhecido por suas obras surrealistas e inovadoras. Seu trabalho mais icônico, \"Twin Peaks\", que estreou em 1990, redefiniu a televisão ao misturar elementos de horror gótico, comédia e mistério. A série, que se tornou um fenômeno cultural, atraiu mais de 36 milhões de espectadores em sua estreia, e sua narrativa complexa e personagens excêntricos continuam a influenciar a televisão moderna. Lynch, que sempre desafiou as convenções, deixou um legado que será lembrado por gerações.\n",
      "\n",
      "**Esportes: Manchester United e o Desempenho de Leny Yoro**\n",
      "\n",
      "No futebol, o Manchester United empatou em 2-2 contra o Southampton, mas o desempenho do jovem defensor Leny Yoro gerou preocupações entre os torcedores. O jogador, que teve dificuldades em neutralizar os ataques adversários, foi alvo de críticas nas redes sociais, com muitos pedindo sua substituição durante a partida. A situação levanta questões sobre a confiança e o futuro do jovem talento no clube, que busca se recuperar em uma temporada desafiadora.\n",
      "\n",
      "**Tecnologia: O Lamento de Hideki Kamiya sobre Vazamentos do Switch 2**\n",
      "\n",
      "A indústria de jogos também está agitada com o recente anúncio do Nintendo Switch 2. Hideki Kamiya, famoso designer de jogos, expressou sua frustração com os \"shitty leakers\" que vazaram informações sobre o console antes de seu lançamento oficial. Ele criticou a cultura de vazamentos que prejudica a surpresa e a experiência dos jogadores, destacando a importância de manter a integridade das revelações de produtos.\n",
      "\n",
      "**Notícias Locais: Desastres Naturais em Balneário Camboriú**\n",
      "\n",
      "Em Balneário Camboriú, as fortes chuvas causaram danos significativos à praia e à infraestrutura local. A cidade declarou estado de emergência após quase 190 mm de chuva em 24 horas, resultando em alagamentos e deslizamentos. As autoridades estão trabalhando para restaurar a normalidade, enquanto a comunidade se mobiliza para lidar com os efeitos das intempéries.\n",
      "\n",
      "**Política: George Santos e o Drama Judicial**\n",
      "\n",
      "O ex-congressista George Santos continua a ser uma figura polêmica, com seu julgamento por fraude adiado até abril para que ele possa continuar a produzir seu podcast. Santos, que já arrecadou mais de $400.000 em aparições e projetos, enfrenta um futuro incerto com possíveis penas de prisão. O caso levanta questões sobre a ética e a responsabilidade de figuras públicas em situações de desonestidade.\n",
      "\n",
      "**Arquitetura: A Corrida por Arranha-Céus em São Paulo**\n",
      "\n",
      "Por fim, a corrida por arranha-céus em São Paulo está em ascensão, com novos projetos que prometem mudar o horizonte da cidade. Após o sucesso de Balneário Camboriú, incorporadoras estão investindo em edifícios cada vez mais altos, desafiando normas urbanísticas e levantando debates sobre o impacto ambiental e social dessas construções.\n",
      "\n",
      "---\n",
      "\n",
      "Essas são as principais notícias do dia. Fique atento para mais atualizações e análises sobre os eventos que moldam nosso mundo!\n"
     ]
    },
    {
     "data": {
      "text/markdown": [
       "**Newsletter do Dia - 17 de Janeiro de 2025**\n",
       "\n",
       "**Cultura e Entretenimento: Homenagem a David Lynch e o Impacto de \"Twin Peaks\"**\n",
       "\n",
       "O mundo do entretenimento está em luto com a recente morte de David Lynch, o aclamado diretor conhecido por suas obras surrealistas e inovadoras. Seu trabalho mais icônico, \"Twin Peaks\", que estreou em 1990, redefiniu a televisão ao misturar elementos de horror gótico, comédia e mistério. A série, que se tornou um fenômeno cultural, atraiu mais de 36 milhões de espectadores em sua estreia, e sua narrativa complexa e personagens excêntricos continuam a influenciar a televisão moderna. Lynch, que sempre desafiou as convenções, deixou um legado que será lembrado por gerações.\n",
       "\n",
       "**Esportes: Manchester United e o Desempenho de Leny Yoro**\n",
       "\n",
       "No futebol, o Manchester United empatou em 2-2 contra o Southampton, mas o desempenho do jovem defensor Leny Yoro gerou preocupações entre os torcedores. O jogador, que teve dificuldades em neutralizar os ataques adversários, foi alvo de críticas nas redes sociais, com muitos pedindo sua substituição durante a partida. A situação levanta questões sobre a confiança e o futuro do jovem talento no clube, que busca se recuperar em uma temporada desafiadora.\n",
       "\n",
       "**Tecnologia: O Lamento de Hideki Kamiya sobre Vazamentos do Switch 2**\n",
       "\n",
       "A indústria de jogos também está agitada com o recente anúncio do Nintendo Switch 2. Hideki Kamiya, famoso designer de jogos, expressou sua frustração com os \"shitty leakers\" que vazaram informações sobre o console antes de seu lançamento oficial. Ele criticou a cultura de vazamentos que prejudica a surpresa e a experiência dos jogadores, destacando a importância de manter a integridade das revelações de produtos.\n",
       "\n",
       "**Notícias Locais: Desastres Naturais em Balneário Camboriú**\n",
       "\n",
       "Em Balneário Camboriú, as fortes chuvas causaram danos significativos à praia e à infraestrutura local. A cidade declarou estado de emergência após quase 190 mm de chuva em 24 horas, resultando em alagamentos e deslizamentos. As autoridades estão trabalhando para restaurar a normalidade, enquanto a comunidade se mobiliza para lidar com os efeitos das intempéries.\n",
       "\n",
       "**Política: George Santos e o Drama Judicial**\n",
       "\n",
       "O ex-congressista George Santos continua a ser uma figura polêmica, com seu julgamento por fraude adiado até abril para que ele possa continuar a produzir seu podcast. Santos, que já arrecadou mais de $400.000 em aparições e projetos, enfrenta um futuro incerto com possíveis penas de prisão. O caso levanta questões sobre a ética e a responsabilidade de figuras públicas em situações de desonestidade.\n",
       "\n",
       "**Arquitetura: A Corrida por Arranha-Céus em São Paulo**\n",
       "\n",
       "Por fim, a corrida por arranha-céus em São Paulo está em ascensão, com novos projetos que prometem mudar o horizonte da cidade. Após o sucesso de Balneário Camboriú, incorporadoras estão investindo em edifícios cada vez mais altos, desafiando normas urbanísticas e levantando debates sobre o impacto ambiental e social dessas construções.\n",
       "\n",
       "---\n",
       "\n",
       "Essas são as principais notícias do dia. Fique atento para mais atualizações e análises sobre os eventos que moldam nosso mundo!"
      ],
      "text/plain": [
       "<IPython.core.display.Markdown object>"
      ]
     },
     "metadata": {},
     "output_type": "display_data"
    }
   ],
   "source": [
    "response = app.invoke({\"country\": \"brazil\",\n",
    "                       \"head\": 5,\n",
    "                       \"k\": 3})"
   ]
  },
  {
   "cell_type": "code",
   "execution_count": 5,
   "metadata": {},
   "outputs": [
    {
     "data": {
      "text/plain": [
       "dict_keys(['country', 'head', 'k', 'trends', 'news', 'newsletter'])"
      ]
     },
     "execution_count": 5,
     "metadata": {},
     "output_type": "execute_result"
    }
   ],
   "source": [
    "response.keys()"
   ]
  },
  {
   "cell_type": "code",
   "execution_count": 6,
   "metadata": {},
   "outputs": [
    {
     "data": {
      "text/markdown": [
       "**Newsletter do Dia - 17 de Janeiro de 2025**\n",
       "\n",
       "**Cultura e Entretenimento: Homenagem a David Lynch e o Impacto de \"Twin Peaks\"**\n",
       "\n",
       "O mundo do entretenimento está em luto com a recente morte de David Lynch, o aclamado diretor conhecido por suas obras surrealistas e inovadoras. Seu trabalho mais icônico, \"Twin Peaks\", que estreou em 1990, redefiniu a televisão ao misturar elementos de horror gótico, comédia e mistério. A série, que se tornou um fenômeno cultural, atraiu mais de 36 milhões de espectadores em sua estreia, e sua narrativa complexa e personagens excêntricos continuam a influenciar a televisão moderna. Lynch, que sempre desafiou as convenções, deixou um legado que será lembrado por gerações.\n",
       "\n",
       "**Esportes: Manchester United e o Desempenho de Leny Yoro**\n",
       "\n",
       "No futebol, o Manchester United empatou em 2-2 contra o Southampton, mas o desempenho do jovem defensor Leny Yoro gerou preocupações entre os torcedores. O jogador, que teve dificuldades em neutralizar os ataques adversários, foi alvo de críticas nas redes sociais, com muitos pedindo sua substituição durante a partida. A situação levanta questões sobre a confiança e o futuro do jovem talento no clube, que busca se recuperar em uma temporada desafiadora.\n",
       "\n",
       "**Tecnologia: O Lamento de Hideki Kamiya sobre Vazamentos do Switch 2**\n",
       "\n",
       "A indústria de jogos também está agitada com o recente anúncio do Nintendo Switch 2. Hideki Kamiya, famoso designer de jogos, expressou sua frustração com os \"shitty leakers\" que vazaram informações sobre o console antes de seu lançamento oficial. Ele criticou a cultura de vazamentos que prejudica a surpresa e a experiência dos jogadores, destacando a importância de manter a integridade das revelações de produtos.\n",
       "\n",
       "**Notícias Locais: Desastres Naturais em Balneário Camboriú**\n",
       "\n",
       "Em Balneário Camboriú, as fortes chuvas causaram danos significativos à praia e à infraestrutura local. A cidade declarou estado de emergência após quase 190 mm de chuva em 24 horas, resultando em alagamentos e deslizamentos. As autoridades estão trabalhando para restaurar a normalidade, enquanto a comunidade se mobiliza para lidar com os efeitos das intempéries.\n",
       "\n",
       "**Política: George Santos e o Drama Judicial**\n",
       "\n",
       "O ex-congressista George Santos continua a ser uma figura polêmica, com seu julgamento por fraude adiado até abril para que ele possa continuar a produzir seu podcast. Santos, que já arrecadou mais de $400.000 em aparições e projetos, enfrenta um futuro incerto com possíveis penas de prisão. O caso levanta questões sobre a ética e a responsabilidade de figuras públicas em situações de desonestidade.\n",
       "\n",
       "**Arquitetura: A Corrida por Arranha-Céus em São Paulo**\n",
       "\n",
       "Por fim, a corrida por arranha-céus em São Paulo está em ascensão, com novos projetos que prometem mudar o horizonte da cidade. Após o sucesso de Balneário Camboriú, incorporadoras estão investindo em edifícios cada vez mais altos, desafiando normas urbanísticas e levantando debates sobre o impacto ambiental e social dessas construções.\n",
       "\n",
       "---\n",
       "\n",
       "Essas são as principais notícias do dia. Fique atento para mais atualizações e análises sobre os eventos que moldam nosso mundo!"
      ],
      "text/plain": [
       "<IPython.core.display.Markdown object>"
      ]
     },
     "metadata": {},
     "output_type": "display_data"
    }
   ],
   "source": [
    "from IPython.display import Markdown\n",
    "\n",
    "newsletter = response[\"newsletter\"]\n",
    "display(Markdown(newsletter))"
   ]
  },
  {
   "cell_type": "code",
   "execution_count": null,
   "metadata": {},
   "outputs": [],
   "source": []
  }
 ],
 "metadata": {
  "kernelspec": {
   "display_name": "env",
   "language": "python",
   "name": "python3"
  },
  "language_info": {
   "codemirror_mode": {
    "name": "ipython",
    "version": 3
   },
   "file_extension": ".py",
   "mimetype": "text/x-python",
   "name": "python",
   "nbconvert_exporter": "python",
   "pygments_lexer": "ipython3",
   "version": "3.12.8"
  }
 },
 "nbformat": 4,
 "nbformat_minor": 2
}
