{
 "cells": [
  {
   "cell_type": "markdown",
   "metadata": {},
   "source": [
    "## Fala dev! \n",
    "#### Nesse notebook nós vamos começar a entender como inicializar um projeto, como funciona um ambiente virtual e como instalar as bibliotecas necessárias para o nosso projeto. \n",
    "\n",
    "#### Iremos entender também como usar os tokens e já indicar para você o caminho para a proximas etapas. Então, vamos lá!"
   ]
  },
  {
   "cell_type": "markdown",
   "metadata": {},
   "source": [
    "## Antes de começar a qualquer projeto, é interessante você criar um ambiente virtual. \n",
    "### Mas o que é um ambiente virtual?\n",
    "Ambiente virtual é um ambiente isolado do seu sistema operacional, onde você pode instalar as bibliotecas necessárias para o seu projeto sem interferir no seu sistema operacional.\n",
    "\n",
    "Olhe o exemplo abaixo de como instalar um ambiente virtual no seu sistema operacional:\n",
    "\n",
    "```bash\n",
    "pip install virtualenv\n",
    "```\n",
    "\n",
    "Feito isso, você pode criar um ambiente virtual com o comando abaixo:\n",
    "\n",
    "```bash\n",
    "virtualenv nome_do_seu_ambiente\n",
    "```\n",
    "Em geral chamamos o ambiente virtual de `env`, ou `venv`, mas você pode chamar do que quiser.\n",
    "\n",
    "Para ativar o ambiente virtual, você pode usar o comando abaixo:\n",
    "\n",
    "```bash\n",
    "cd nome_do_seu_ambiente/Scrips\n",
    ".\\activate\n",
    "```\n",
    "\n",
    "Se você observar o seu terminal, você verá que o nome do seu ambiente virtual aparecerá antes do seu nome de usuário.\n",
    "(Ex: (nome_do_seu_ambiente) C:\\Users\\seu_nome_de_usuario>)\n",
    "\n"
   ]
  },
  {
   "cell_type": "markdown",
   "metadata": {},
   "source": [
    "### Requirements\n",
    "Bem agora que voçê já sabe o que é um ambiente virtual, vamos instalar as bibliotecas necessárias para o nosso projeto.\n",
    "\n",
    "Para isso muitas vezes usamos o arquivo `requirements.txt` que contém todas as bibliotecas necessárias para o nosso projeto.\n",
    "\n",
    "Obs: É importante que na construão do projeto a medida que você for instalando as bibliotecas, você vá atualizando o arquivo `requirements.txt`.\n",
    "\n",
    "Para instalar as bibliotecas necessárias para o nosso projeto, você pode usar o comando abaixo:\n",
    "\n",
    "```bash\n",
    "pip install -r requirements.txt\n",
    "```"
   ]
  },
  {
   "cell_type": "code",
   "execution_count": null,
   "metadata": {},
   "outputs": [
    {
     "name": "stdout",
     "output_type": "stream",
     "text": [
      "^C\n"
     ]
    },
    {
     "name": "stderr",
     "output_type": "stream",
     "text": [
      "ERROR: Could not open requirements file: [Errno 2] No such file or directory: 'requirements.txt'\n"
     ]
    }
   ],
   "source": [
    "!pip install -r requirements.txt"
   ]
  },
  {
   "cell_type": "markdown",
   "metadata": {},
   "source": [
    "### Tokens\n",
    "\n",
    "Para você conseguir acessar a API da OpenAI, você precisa de um token. Para conseguir um token, você precisa se cadastrar no site da OpenAI e solicitar um token, mas provavelmente o grade mestre senhor kaiô ja lhe passou seu token no privado.\n",
    "\n",
    "### Próximos passos\n",
    "Crie um arquivo `.env` e coloque o seu token lá. \n",
    "\n",
    "```bash\n",
    "OPENAI_API_KEY=seu_token\n",
    "```\n",
    "\n",
    "Agora que você já tem o seu ambiente virtual, já instalou as bibliotecas necessárias e já tem o seu token, você já está pronto para começar a codar... ou não."
   ]
  },
  {
   "cell_type": "code",
   "execution_count": 1,
   "metadata": {},
   "outputs": [],
   "source": [
    "from dotenv import load_dotenv\n",
    "import os\n",
    "\n",
    "load_dotenv()\n",
    "\n",
    "OPENAI_API_KEY = os.getenv(\"OPENAI_API_KEY\")"
   ]
  },
  {
   "cell_type": "code",
   "execution_count": 2,
   "metadata": {},
   "outputs": [],
   "source": [
    "## Agora vamos ver como o modelo fuciona via API\n",
    "from langchain_openai import ChatOpenAI\n",
    "\n",
    "llm = ChatOpenAI(openai_api_key=OPENAI_API_KEY)"
   ]
  },
  {
   "cell_type": "markdown",
   "metadata": {},
   "source": [
    "Deu errado? Não esqueceu de dar pip install nessa nova biblioteca que você quer utilizar?\n",
    "\n",
    "Já atualizou o requirements.txt hoje irmão?"
   ]
  },
  {
   "cell_type": "markdown",
   "metadata": {},
   "source": [
    "Para entender mais sobre ChatOpenAI, você pode acessar a documentação da OpenAI [aqui](https://api.python.langchain.com/en/latest/chat_models/langchain_openai.chat_models.base.ChatOpenAI.html)."
   ]
  },
  {
   "cell_type": "code",
   "execution_count": 3,
   "metadata": {},
   "outputs": [
    {
     "name": "stdout",
     "output_type": "stream",
     "text": [
      "content='Brasília.' additional_kwargs={'refusal': None} response_metadata={'token_usage': {'completion_tokens': 5, 'prompt_tokens': 14, 'total_tokens': 19, 'completion_tokens_details': {'accepted_prediction_tokens': 0, 'audio_tokens': 0, 'reasoning_tokens': 0, 'rejected_prediction_tokens': 0}, 'prompt_tokens_details': {'audio_tokens': 0, 'cached_tokens': 0}}, 'model_name': 'gpt-3.5-turbo-0125', 'system_fingerprint': None, 'finish_reason': 'stop', 'logprobs': None} id='run-daaaae51-a5b7-4ff8-b864-19448df70a07-0' usage_metadata={'input_tokens': 14, 'output_tokens': 5, 'total_tokens': 19, 'input_token_details': {'audio': 0, 'cache_read': 0}, 'output_token_details': {'audio': 0, 'reasoning': 0}}\n"
     ]
    }
   ],
   "source": [
    "# Vamos fazer uma pergunta\n",
    "question = \"Qual é a capital do Brasil?\"\n",
    "answer = llm.invoke(question)\n",
    "print(answer)"
   ]
  },
  {
   "cell_type": "code",
   "execution_count": 4,
   "metadata": {},
   "outputs": [],
   "source": [
    "# Podemos orientar resposta do modelo com um modelo de prompt \n",
    "# Esse modelo de prompt é uma string que é usada para orientar a resposta do modelo\n",
    "\n",
    "from langchain_core.prompts import ChatPromptTemplate\n",
    "prompt = ChatPromptTemplate.from_messages([\n",
    "    (\"system\", \"Voçê é um ajudante de aluno e está respondendo perguntas de geografia. Você deve dar informações detalhadas e explicar o melhor possível.\"),\n",
    "    (\"user\", \"{input}\")\n",
    "])"
   ]
  },
  {
   "cell_type": "markdown",
   "metadata": {},
   "source": [
    "## Cadeia de comandos\n",
    "Chains of commands, ou cadeia de comandos, é uma sequência de comandos que são executados em sequência.\n",
    "\n",
    "Vamos combinar os comandos anteriores no que chamamos de chain."
   ]
  },
  {
   "cell_type": "code",
   "execution_count": 5,
   "metadata": {},
   "outputs": [],
   "source": [
    "chain = prompt | llm"
   ]
  },
  {
   "cell_type": "markdown",
   "metadata": {},
   "source": [
    "Agora podemos invocá-lo e fazer a mesma pergunta."
   ]
  },
  {
   "cell_type": "code",
   "execution_count": 6,
   "metadata": {},
   "outputs": [
    {
     "data": {
      "text/plain": [
       "AIMessage(content='A capital do Brasil é Brasília. Ela foi inaugurada em 21 de abril de 1960 e foi projetada pelo arquiteto Oscar Niemeyer e pelo urbanista Lúcio Costa. Antes disso, a capital brasileira era o Rio de Janeiro. Brasília foi construída no centro do país, no Planalto Central, com o objetivo de promover o desenvolvimento da região e incentivar a ocupação do interior do país. A cidade é conhecida por sua arquitetura modernista, seus amplos espaços abertos e sua organização urbana em formato de avião. Brasília é a sede do governo brasileiro e abriga os três poderes: Executivo, Legislativo e Judiciário.', additional_kwargs={'refusal': None}, response_metadata={'token_usage': {'completion_tokens': 161, 'prompt_tokens': 51, 'total_tokens': 212, 'completion_tokens_details': {'accepted_prediction_tokens': 0, 'audio_tokens': 0, 'reasoning_tokens': 0, 'rejected_prediction_tokens': 0}, 'prompt_tokens_details': {'audio_tokens': 0, 'cached_tokens': 0}}, 'model_name': 'gpt-3.5-turbo-0125', 'system_fingerprint': None, 'finish_reason': 'stop', 'logprobs': None}, id='run-1c5d73e9-9718-431f-87cd-c0ac17153b9d-0', usage_metadata={'input_tokens': 51, 'output_tokens': 161, 'total_tokens': 212, 'input_token_details': {'audio': 0, 'cache_read': 0}, 'output_token_details': {'audio': 0, 'reasoning': 0}})"
      ]
     },
     "execution_count": 6,
     "metadata": {},
     "output_type": "execute_result"
    }
   ],
   "source": [
    "chain.invoke({\"input\": \"Qual é a capital do Brasil?\"})"
   ]
  },
  {
   "cell_type": "markdown",
   "metadata": {},
   "source": [
    "A saída de um ChatModel (e, portanto, desta cadeia) é uma mensagem. No entanto, muitas vezes é muito mais conveniente trabalhar com strings. \n",
    "\n",
    "Vamos adicionar um analisador de saída simples para converter a mensagem de chat em uma string."
   ]
  },
  {
   "cell_type": "code",
   "execution_count": 7,
   "metadata": {},
   "outputs": [],
   "source": [
    "from langchain_core.output_parsers import StrOutputParser\n",
    "\n",
    "output_parser = StrOutputParser()"
   ]
  },
  {
   "cell_type": "code",
   "execution_count": 8,
   "metadata": {},
   "outputs": [],
   "source": [
    "chain = prompt | llm | output_parser"
   ]
  },
  {
   "cell_type": "code",
   "execution_count": 9,
   "metadata": {},
   "outputs": [
    {
     "data": {
      "text/plain": [
       "'A capital do Brasil é Brasília. Localizada no centro-oeste do país, Brasília foi inaugurada como capital em 1960, sendo projetada pelo arquiteto Oscar Niemeyer e pelo urbanista Lúcio Costa. A mudança da capital do Rio de Janeiro para Brasília tinha o objetivo de centralizar o poder político e administrativo do país, além de promover o desenvolvimento da região central do Brasil. Brasília é conhecida por sua arquitetura moderna e por ser Patrimônio Mundial da UNESCO. É também a sede dos principais poderes do país, como o Palácio do Planalto, o Congresso Nacional e o Supremo Tribunal Federal.'"
      ]
     },
     "execution_count": 9,
     "metadata": {},
     "output_type": "execute_result"
    }
   ],
   "source": [
    "chain.invoke({\"input\": \"Qual é a capital do Brasil?\"})"
   ]
  },
  {
   "cell_type": "markdown",
   "metadata": {},
   "source": [
    "Bem, essa é uma aplicação simples de cadeia de comandos. É possível criar cadeias de comandos mais complexas, \n",
    "\n",
    "com várias entradas e saídas, e até mesmo cadeias de comandos que chamam outras cadeias de comandos.\n",
    "\n",
    "Se aventure e crie suas chains pequeno garfanhoto.\n",
    "\n",
    "mais informações sobre chains [aqui](https://python.langchain.com/v0.1/docs/expression_language/cookbook/multiple_chains/)\n"
   ]
  },
  {
   "cell_type": "markdown",
   "metadata": {},
   "source": [
    "# Plus \n",
    "E se você quiser streamar a resposta do seu chatbot?\n"
   ]
  },
  {
   "cell_type": "code",
   "execution_count": 10,
   "metadata": {},
   "outputs": [
    {
     "name": "stdout",
     "output_type": "stream",
     "text": [
      "A capital do Brasil é Brasília, localizada no Distrito Federal. A cidade foi inaugurada em 1960, sendo planejada e construída para ser a nova capital do país, substituindo o Rio de Janeiro. A mudança da capital para Brasília foi uma decisão estratégica do governo brasileiro para promover o desenvolvimento do interior do país e facilitar a integração nacional.\n",
      "\n",
      "A história do Brasil é marcada por uma série de acontecimentos importantes. Antes da chegada dos europeus, o território brasileiro era habitado por povos indígenas. Em 1500, o país foi \"descoberto\" pelos portugueses liderados por Pedro Álvares Cabral. A colonização portuguesa trouxe a exploração das riquezas naturais, como o pau-brasil e o ouro, além do estabelecimento do sistema de plantation baseado na escravidão africana.\n",
      "\n",
      "Em 1822, o Brasil conquistou sua independência de Portugal, tornando-se uma monarquia constitucional dirigida por Dom Pedro I. Em 1889, o país proclamou a República e passou a ser uma república federativa presidencialista.\n",
      "\n",
      "Durante sua história, o Brasil passou por períodos de modernização e industrialização, bem como por momentos de instabilidade política e crises econômicas. Atualmente, o país é conhecido pela sua diversidade cultural, pela sua natureza exuberante e pela sua posição como uma das maiores economias do mundo."
     ]
    }
   ],
   "source": [
    "# Vamos usar o mesmo prompt para fazer outra pergunta e a resposta queremos que seja stream\n",
    "async for msg in chain.astream({\"input\": \"Qual é a capital do Brasil? Fale brevemente sobre a história do Brasil.\"}):\n",
    "    print(msg, end=\"\", flush=True)"
   ]
  },
  {
   "cell_type": "markdown",
   "metadata": {},
   "source": [
    "### Então quer dizer que você já está streamando a resposta do seu chatbot?\n",
    "Já pode começar a ir pensando em como você aplicar isso em um projeto real."
   ]
  },
  {
   "cell_type": "markdown",
   "metadata": {},
   "source": [
    "### Para melhorar ainda mais\n",
    "\n",
    "Procure sobre LCEL (Language Chain Expression Language) e veja como você pode criar expressões mais complexas para a sua aplicação."
   ]
  },
  {
   "cell_type": "markdown",
   "metadata": {},
   "source": []
  }
 ],
 "metadata": {
  "kernelspec": {
   "display_name": "env",
   "language": "python",
   "name": "python3"
  },
  "language_info": {
   "codemirror_mode": {
    "name": "ipython",
    "version": 3
   },
   "file_extension": ".py",
   "mimetype": "text/x-python",
   "name": "python",
   "nbconvert_exporter": "python",
   "pygments_lexer": "ipython3",
   "version": "3.12.8"
  }
 },
 "nbformat": 4,
 "nbformat_minor": 2
}
